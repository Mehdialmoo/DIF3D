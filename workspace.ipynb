{
 "cells": [
  {
   "cell_type": "code",
   "execution_count": 1,
   "metadata": {},
   "outputs": [
    {
     "name": "stderr",
     "output_type": "stream",
     "text": [
      "d:\\ProgramFiles\\Anaconda\\Lib\\site-packages\\paramiko\\transport.py:219: CryptographyDeprecationWarning: Blowfish has been deprecated\n",
      "  \"class\": algorithms.Blowfish,\n"
     ]
    },
    {
     "name": "stdout",
     "output_type": "stream",
     "text": [
      "Jupyter environment detected. Enabling Open3D WebVisualizer.\n",
      "[Open3D INFO] WebRTC GUI backend enabled.\n",
      "[Open3D INFO] WebRTCWindowSystem: HTTP handshake server disabled.\n"
     ]
    }
   ],
   "source": [
    "# Importing the Runtime library to enable us to start the program\n",
    "from Dif3d import Runtime"
   ]
  },
  {
   "cell_type": "code",
   "execution_count": 2,
   "metadata": {},
   "outputs": [
    {
     "name": "stderr",
     "output_type": "stream",
     "text": [
      "2024-05-15 16:08:11,377 - INFO - Initializing pre-model(Gaussian model) ...\n",
      "2024-05-15 16:08:12,998 - INFO - Initializing pre-model(Gaussian model) finished in 1620.84ms.\n",
      "2024-05-15 16:08:12,998 - INFO - Initializing TSR (diffsusion 3D) model ...\n",
      "2024-05-15 16:08:16,339 - INFO - Initializing TSR (diffsusion 3D) model finished in 3340.76ms.\n"
     ]
    }
   ],
   "source": [
    "#creating an instance from the runtime to enable us to use the functions and models\n",
    "B3D_fusiion = Runtime()\n",
    "#setvariables is about giving attributes that we need to fine tune or adjust the model\n",
    "#only input files address is mandetory\n",
    "B3D_fusiion.set_variables(input_path=\"D:\\pic.jpg\")\n",
    "\"\"\"\n",
    "defualt vales are :\n",
    "    input_path: str = \"input/\",\n",
    "    output_path: str = \"output/\",\n",
    "    pretrained_model: str = \"stabilityai/TripoSR\",\n",
    "    chunk_size: int = 8192,\n",
    "    padding: int = 16,\n",
    "    foreground_ratio: float = 0.85,\n",
    "    mc_resolution: int = 256,\n",
    "    model_save_format: str = \"obj\"\n",
    "\"\"\"\n",
    "# loading the models \n",
    "B3D_fusiion.initilize()"
   ]
  },
  {
   "cell_type": "code",
   "execution_count": 3,
   "metadata": {},
   "outputs": [
    {
     "name": "stderr",
     "output_type": "stream",
     "text": [
      "2024-05-15 16:08:16,380 - INFO - Processing images ...\n",
      "2024-05-15 16:09:07,356 - INFO - Processing images finished in 50976.92ms.\n"
     ]
    }
   ],
   "source": [
    "#preprocessing the images (resize/remove background/create depth map/ etc.)\n",
    "B3D_fusiion.img_process()"
   ]
  },
  {
   "cell_type": "code",
   "execution_count": 4,
   "metadata": {},
   "outputs": [
    {
     "name": "stderr",
     "output_type": "stream",
     "text": [
      "2024-05-15 16:09:07,389 - INFO - please wait this process might take a few minutes...\n",
      "2024-05-15 16:09:07,390 - INFO - Running model ...\n"
     ]
    },
    {
     "name": "stdout",
     "output_type": "stream",
     "text": [
      "[Open3D WARNING] Write geometry::PointCloud failed: unknown file extension obj for file output/3dfiles/pointcloud_raw.obj.\n",
      "[Open3D WARNING] Write geometry::PointCloud failed: unknown file extension obj for file output/3dfiles/pointcloud.obj.\n",
      "[Open3D WARNING] GLFW Error: WGL: Failed to make context current: The handle is invalid. \n"
     ]
    },
    {
     "name": "stderr",
     "output_type": "stream",
     "text": [
      "2024-05-15 16:10:39,051 - INFO - Running model finished in 91661.50ms.\n"
     ]
    }
   ],
   "source": [
    "#give the processed image and depth maps and cloud point and mesh\n",
    "B3D_fusiion.modelRun()"
   ]
  },
  {
   "cell_type": "code",
   "execution_count": 5,
   "metadata": {},
   "outputs": [
    {
     "name": "stderr",
     "output_type": "stream",
     "text": [
      "2024-05-15 16:10:39,088 - INFO - Rendering ...\n",
      "2024-05-15 16:18:01,303 - INFO - Rendering finished in 442214.48ms.\n"
     ]
    }
   ],
   "source": [
    "# this step renders the hologan model to generate the different angels based on Zero-1-to-3++ model\n",
    "B3D_fusiion.render()\n",
    "#saves a video and 30 frames from different angels"
   ]
  },
  {
   "cell_type": "code",
   "execution_count": 6,
   "metadata": {},
   "outputs": [
    {
     "name": "stderr",
     "output_type": "stream",
     "text": [
      "2024-05-15 16:18:03,480 - INFO - Exporting mesh ...\n",
      "2024-05-15 16:18:33,944 - INFO - Exporting mesh finished in 30464.00ms.\n"
     ]
    }
   ],
   "source": [
    "# after rendering the model now can export a full mesh with uv map\n",
    "B3D_fusiion.export_mesh()"
   ]
  }
 ],
 "metadata": {
  "kernelspec": {
   "display_name": "base",
   "language": "python",
   "name": "python3"
  },
  "language_info": {
   "codemirror_mode": {
    "name": "ipython",
    "version": 3
   },
   "file_extension": ".py",
   "mimetype": "text/x-python",
   "name": "python",
   "nbconvert_exporter": "python",
   "pygments_lexer": "ipython3",
   "version": "3.11.5"
  }
 },
 "nbformat": 4,
 "nbformat_minor": 2
}
